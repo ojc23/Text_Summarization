{
 "cells": [
  {
   "cell_type": "markdown",
   "metadata": {},
   "source": [
    "# 0. Install dependencies"
   ]
  },
  {
   "cell_type": "code",
   "execution_count": 5,
   "metadata": {
    "ExecuteTime": {
     "end_time": "2021-12-05T19:30:33.482118Z",
     "start_time": "2021-12-05T19:29:54.561355Z"
    },
    "collapsed": true
   },
   "outputs": [
    {
     "name": "stdout",
     "output_type": "stream",
     "text": [
      "Collecting sentence-splitter\n",
      "  Downloading sentence_splitter-1.4-py2.py3-none-any.whl (44 kB)\n",
      "\u001b[K     |████████████████████████████████| 44 kB 1.9 MB/s eta 0:00:01\n",
      "\u001b[?25hRequirement already satisfied: regex>=2017.12.12 in /Users/olivierchateauneuf/opt/anaconda3/envs/py3_test/lib/python3.8/site-packages (from sentence-splitter) (2021.8.3)\n",
      "Installing collected packages: sentence-splitter\n",
      "Successfully installed sentence-splitter-1.4\n",
      "Requirement already satisfied: transformers in /Users/olivierchateauneuf/opt/anaconda3/envs/py3_test/lib/python3.8/site-packages (4.12.5)\n",
      "Requirement already satisfied: packaging>=20.0 in /Users/olivierchateauneuf/opt/anaconda3/envs/py3_test/lib/python3.8/site-packages (from transformers) (21.0)\n",
      "Requirement already satisfied: tqdm>=4.27 in /Users/olivierchateauneuf/opt/anaconda3/envs/py3_test/lib/python3.8/site-packages (from transformers) (4.62.3)\n",
      "Requirement already satisfied: pyyaml>=5.1 in /Users/olivierchateauneuf/opt/anaconda3/envs/py3_test/lib/python3.8/site-packages (from transformers) (6.0)\n",
      "Requirement already satisfied: filelock in /Users/olivierchateauneuf/opt/anaconda3/envs/py3_test/lib/python3.8/site-packages (from transformers) (3.4.0)\n",
      "Requirement already satisfied: huggingface-hub<1.0,>=0.1.0 in /Users/olivierchateauneuf/opt/anaconda3/envs/py3_test/lib/python3.8/site-packages (from transformers) (0.2.1)\n",
      "Requirement already satisfied: tokenizers<0.11,>=0.10.1 in /Users/olivierchateauneuf/opt/anaconda3/envs/py3_test/lib/python3.8/site-packages (from transformers) (0.10.3)\n",
      "Requirement already satisfied: numpy>=1.17 in /Users/olivierchateauneuf/opt/anaconda3/envs/py3_test/lib/python3.8/site-packages (from transformers) (1.20.3)\n",
      "Requirement already satisfied: requests in /Users/olivierchateauneuf/opt/anaconda3/envs/py3_test/lib/python3.8/site-packages (from transformers) (2.26.0)\n",
      "Requirement already satisfied: regex!=2019.12.17 in /Users/olivierchateauneuf/opt/anaconda3/envs/py3_test/lib/python3.8/site-packages (from transformers) (2021.8.3)\n",
      "Requirement already satisfied: sacremoses in /Users/olivierchateauneuf/opt/anaconda3/envs/py3_test/lib/python3.8/site-packages (from transformers) (0.0.46)\n",
      "Requirement already satisfied: typing-extensions>=3.7.4.3 in /Users/olivierchateauneuf/opt/anaconda3/envs/py3_test/lib/python3.8/site-packages (from huggingface-hub<1.0,>=0.1.0->transformers) (3.10.0.2)\n",
      "Requirement already satisfied: pyparsing>=2.0.2 in /Users/olivierchateauneuf/opt/anaconda3/envs/py3_test/lib/python3.8/site-packages (from packaging>=20.0->transformers) (2.4.7)\n",
      "Requirement already satisfied: idna<4,>=2.5 in /Users/olivierchateauneuf/opt/anaconda3/envs/py3_test/lib/python3.8/site-packages (from requests->transformers) (3.3)\n",
      "Requirement already satisfied: charset-normalizer~=2.0.0 in /Users/olivierchateauneuf/opt/anaconda3/envs/py3_test/lib/python3.8/site-packages (from requests->transformers) (2.0.7)\n",
      "Requirement already satisfied: certifi>=2017.4.17 in /Users/olivierchateauneuf/opt/anaconda3/envs/py3_test/lib/python3.8/site-packages (from requests->transformers) (2021.10.8)\n",
      "Requirement already satisfied: urllib3<1.27,>=1.21.1 in /Users/olivierchateauneuf/opt/anaconda3/envs/py3_test/lib/python3.8/site-packages (from requests->transformers) (1.26.7)\n",
      "Requirement already satisfied: six in /Users/olivierchateauneuf/opt/anaconda3/envs/py3_test/lib/python3.8/site-packages (from sacremoses->transformers) (1.16.0)\n",
      "Requirement already satisfied: click in /Users/olivierchateauneuf/opt/anaconda3/envs/py3_test/lib/python3.8/site-packages (from sacremoses->transformers) (8.0.3)\n",
      "Requirement already satisfied: joblib in /Users/olivierchateauneuf/opt/anaconda3/envs/py3_test/lib/python3.8/site-packages (from sacremoses->transformers) (1.1.0)\n",
      "Requirement already satisfied: SentencePiece in /Users/olivierchateauneuf/opt/anaconda3/envs/py3_test/lib/python3.8/site-packages (0.1.96)\n"
     ]
    }
   ],
   "source": [
    "#Installing dependencies\n",
    "!pip install sentence-splitter\n",
    "!pip install transformers\n",
    "!pip install SentencePiece"
   ]
  },
  {
   "cell_type": "markdown",
   "metadata": {},
   "source": [
    "Sources: <>\n",
    "https://huggingface.co/tuner007/pegasus_paraphrase\n",
    "    \n",
    "https://analyticsindiamag.com/how-to-paraphrase-text-using-pegasus-transformer/"
   ]
  },
  {
   "cell_type": "markdown",
   "metadata": {},
   "source": [
    "# 1. Import and Load Model"
   ]
  },
  {
   "cell_type": "code",
   "execution_count": 1,
   "metadata": {
    "ExecuteTime": {
     "end_time": "2021-12-05T19:27:03.776689Z",
     "start_time": "2021-12-05T19:25:47.635122Z"
    }
   },
   "outputs": [],
   "source": [
    "#importing the PEGASUS Transformer model\n",
    "import torch\n",
    "from transformers import PegasusForConditionalGeneration, PegasusTokenizer\n",
    " \n",
    "model_name = 'tuner007/pegasus_paraphrase'\n",
    "torch_device = 'cuda' if torch.cuda.is_available() else 'cpu'\n",
    "tokenizer = PegasusTokenizer.from_pretrained(model_name)\n",
    "model = PegasusForConditionalGeneration.from_pretrained(model_name).to(torch_device)\n",
    " \n",
    "#setting up the model\n",
    "def get_response(input_text,num_return_sequences):\n",
    "  batch = tokenizer.prepare_seq2seq_batch([input_text],truncation=True,padding='longest',max_length=60, return_tensors=\"pt\").to(torch_device)\n",
    "  translated = model.generate(**batch,max_length=60,num_beams=10, num_return_sequences=num_return_sequences, temperature=1.5)\n",
    "  tgt_text = tokenizer.batch_decode(translated, skip_special_tokens=True)\n",
    "  return tgt_text"
   ]
  },
  {
   "cell_type": "code",
   "execution_count": 2,
   "metadata": {
    "ExecuteTime": {
     "end_time": "2021-12-05T19:27:26.038737Z",
     "start_time": "2021-12-05T19:27:08.301521Z"
    }
   },
   "outputs": [
    {
     "name": "stderr",
     "output_type": "stream",
     "text": [
      "/Users/olivierchateauneuf/opt/anaconda3/envs/py3_test/lib/python3.8/site-packages/transformers/tokenization_utils_base.py:3407: FutureWarning: \n",
      "`prepare_seq2seq_batch` is deprecated and will be removed in version 5 of HuggingFace Transformers. Use the regular\n",
      "`__call__` method to prepare your inputs and the tokenizer under the `as_target_tokenizer` context manager to prepare\n",
      "your targets.\n",
      "\n",
      "Here is a short example:\n",
      "\n",
      "model_inputs = tokenizer(src_texts, ...)\n",
      "with tokenizer.as_target_tokenizer():\n",
      "    labels = tokenizer(tgt_texts, ...)\n",
      "model_inputs[\"labels\"] = labels[\"input_ids\"]\n",
      "\n",
      "See the documentation of your specific tokenizer for more details on the specific arguments to the tokenizer of choice.\n",
      "For a more complete example, see the implementation of `prepare_seq2seq_batch`.\n",
      "\n",
      "  warnings.warn(formatted_warning, FutureWarning)\n"
     ]
    },
    {
     "data": {
      "text/plain": [
       "['I will show you how to use the SweetViz and its dependent library to build a web application.',\n",
       " 'I will show you how to use the SweetViz library to build a web application.',\n",
       " 'I will show you how to build a web application using the SweetViz and its dependent library.',\n",
       " 'I will show you how to use the SweetViz and its dependent library to build a web application in Python.',\n",
       " 'I will show you how to build a web application in Python using the SweetViz library.']"
      ]
     },
     "execution_count": 2,
     "metadata": {},
     "output_type": "execute_result"
    }
   ],
   "source": [
    "#test input sentence\n",
    "text = \"I will be showing you how to build a web application in Python using the SweetViz and its dependent library.\"\n",
    "\n",
    "#printing response\n",
    "get_response(text, 5)"
   ]
  },
  {
   "cell_type": "code",
   "execution_count": 3,
   "metadata": {
    "ExecuteTime": {
     "end_time": "2021-12-05T19:28:39.165985Z",
     "start_time": "2021-12-05T19:28:39.159467Z"
    }
   },
   "outputs": [
    {
     "name": "stdout",
     "output_type": "stream",
     "text": [
      "I will be showing you how to build a web application in Python using the SweetViz and its dependent library. Data science combines multiple fields, including statistics, scientific methods, artificial intelligence (AI), and data analysis, to extract value from data. Those who practice data science are called data scientists, and they combine a range of skills to analyze data collected from the web, smartphones, customers, sensors, and other sources to derive actionable insights.\n"
     ]
    }
   ],
   "source": [
    "# Paragraph of text\n",
    "context = \"I will be showing you how to build a web application in Python using the SweetViz and its dependent library. Data science combines multiple fields, including statistics, scientific methods, artificial intelligence (AI), and data analysis, to extract value from data. Those who practice data science are called data scientists, and they combine a range of skills to analyze data collected from the web, smartphones, customers, sensors, and other sources to derive actionable insights.\"\n",
    " \n",
    "print(context)"
   ]
  },
  {
   "cell_type": "code",
   "execution_count": 6,
   "metadata": {
    "ExecuteTime": {
     "end_time": "2021-12-05T19:31:54.344215Z",
     "start_time": "2021-12-05T19:31:53.764039Z"
    }
   },
   "outputs": [
    {
     "data": {
      "text/plain": [
       "['I will be showing you how to build a web application in Python using the SweetViz and its dependent library.',\n",
       " 'Data science combines multiple fields, including statistics, scientific methods, artificial intelligence (AI), and data analysis, to extract value from data.',\n",
       " 'Those who practice data science are called data scientists, and they combine a range of skills to analyze data collected from the web, smartphones, customers, sensors, and other sources to derive actionable insights.']"
      ]
     },
     "execution_count": 6,
     "metadata": {},
     "output_type": "execute_result"
    }
   ],
   "source": [
    "#Takes the input paragraph and splits it into a list of sentences\n",
    "from sentence_splitter import SentenceSplitter, split_text_into_sentences\n",
    " \n",
    "splitter = SentenceSplitter(language='en')\n",
    " \n",
    "sentence_list = splitter.split(context)\n",
    "sentence_list"
   ]
  },
  {
   "cell_type": "code",
   "execution_count": 7,
   "metadata": {
    "ExecuteTime": {
     "end_time": "2021-12-05T19:33:25.490575Z",
     "start_time": "2021-12-05T19:32:25.348439Z"
    }
   },
   "outputs": [
    {
     "data": {
      "text/plain": [
       "[['I will show you how to use the SweetViz and its dependent library to build a web application.'],\n",
       " ['Data science combines multiple fields, including statistics, scientific methods, and data analysis, to extract value from data.'],\n",
       " ['Data scientists combine a range of skills to analyze data collected from the web, smartphones, customers, sensors, and other sources to derive actionable insights.']]"
      ]
     },
     "execution_count": 7,
     "metadata": {},
     "output_type": "execute_result"
    }
   ],
   "source": [
    "paraphrase = []\n",
    " \n",
    "for i in sentence_list:\n",
    "  a = get_response(i,1)\n",
    "  paraphrase.append(a)\n",
    "\n",
    "# Generating the paraphrased text\n",
    "paraphrase"
   ]
  },
  {
   "cell_type": "code",
   "execution_count": 8,
   "metadata": {
    "ExecuteTime": {
     "end_time": "2021-12-05T19:33:25.535022Z",
     "start_time": "2021-12-05T19:33:25.494990Z"
    }
   },
   "outputs": [
    {
     "data": {
      "text/plain": [
       "['I will show you how to use the SweetViz and its dependent library to build a web application.',\n",
       " 'Data science combines multiple fields, including statistics, scientific methods, and data analysis, to extract value from data.',\n",
       " 'Data scientists combine a range of skills to analyze data collected from the web, smartphones, customers, sensors, and other sources to derive actionable insights.']"
      ]
     },
     "execution_count": 8,
     "metadata": {},
     "output_type": "execute_result"
    }
   ],
   "source": [
    "#creating the second split\n",
    "paraphrase2 = [' '.join(x) for x in paraphrase]\n",
    "paraphrase2"
   ]
  },
  {
   "cell_type": "code",
   "execution_count": 9,
   "metadata": {
    "ExecuteTime": {
     "end_time": "2021-12-05T19:33:25.554960Z",
     "start_time": "2021-12-05T19:33:25.539833Z"
    }
   },
   "outputs": [
    {
     "data": {
      "text/plain": [
       "'I will show you how to use the SweetViz and its dependent library to build a web application. Data science combines multiple fields, including statistics, scientific methods, and data analysis, to extract value from data. Data scientists combine a range of skills to analyze data collected from the web, smartphones, customers, sensors, and other sources to derive actionable insights.'"
      ]
     },
     "execution_count": 9,
     "metadata": {},
     "output_type": "execute_result"
    }
   ],
   "source": [
    "# Combine the above splitted lists into a paragraph\n",
    "paraphrase3 = [' '.join(x for x in paraphrase2) ]\n",
    "paraphrased_text = str(paraphrase3).strip('[]').strip(\"'\")\n",
    "paraphrased_text"
   ]
  },
  {
   "cell_type": "code",
   "execution_count": 13,
   "metadata": {
    "ExecuteTime": {
     "end_time": "2021-12-05T19:47:43.123613Z",
     "start_time": "2021-12-05T19:47:43.117383Z"
    }
   },
   "outputs": [
    {
     "name": "stdout",
     "output_type": "stream",
     "text": [
      "Oringinal Text\n",
      "I will be showing you how to build a web application in Python using the SweetViz and its dependent library. Data science combines multiple fields, including statistics, scientific methods, artificial intelligence (AI), and data analysis, to extract value from data. Those who practice data science are called data scientists, and they combine a range of skills to analyze data collected from the web, smartphones, customers, sensors, and other sources to derive actionable insights.\n",
      "\n",
      "\n",
      "Peraphrased Text\n",
      "I will show you how to use the SweetViz and its dependent library to build a web application. Data science combines multiple fields, including statistics, scientific methods, and data analysis, to extract value from data. Data scientists combine a range of skills to analyze data collected from the web, smartphones, customers, sensors, and other sources to derive actionable insights.\n"
     ]
    }
   ],
   "source": [
    "# Comparison of the original (context variable) and the paraphrased version (paraphrase3 variable)\n",
    " \n",
    "    \n",
    "print(\"Oringinal Text\")\n",
    "print(context)\n",
    "print(\"\\n\")\n",
    "print(\"Peraphrased Text\")\n",
    "print(paraphrased_text)"
   ]
  }
 ],
 "metadata": {
  "hide_input": false,
  "kernelspec": {
   "display_name": "Python [conda env:py3_test]",
   "language": "python",
   "name": "conda-env-py3_test-py"
  },
  "language_info": {
   "codemirror_mode": {
    "name": "ipython",
    "version": 3
   },
   "file_extension": ".py",
   "mimetype": "text/x-python",
   "name": "python",
   "nbconvert_exporter": "python",
   "pygments_lexer": "ipython3",
   "version": "3.8.11"
  }
 },
 "nbformat": 4,
 "nbformat_minor": 2
}
